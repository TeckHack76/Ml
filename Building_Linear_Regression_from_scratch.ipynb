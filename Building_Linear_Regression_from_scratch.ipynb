{
 "cells": [
  {
   "metadata": {},
   "cell_type": "markdown",
   "source": [
    "Linear Regression:\n",
    "\n",
    "Y = wX + b\n",
    "\n",
    "Y --> Dependent Variable\n",
    "\n",
    "X --> Independent Variable\n",
    "\n",
    "w --> weight\n",
    "\n",
    "b --> bias\n",
    "\n",
    "Gradient Descent:\n",
    "\n",
    "Gradient Descent is an optimization algorithm used for minimizing the loss function in various machine learning algorithms. It is used for updating the parameters of the learning model.\n",
    "\n",
    "w = w - α*dw\n",
    "\n",
    "b = b - α*db\n",
    "\n",
    "Learning Rate:\n",
    "\n",
    "Learning rate is a tuning parameter in an optimization algorithm that determines the step size at each iteration while moving toward a minimum of a loss function."
   ],
   "id": "14503a717248c72b"
  },
  {
   "metadata": {
    "collapsed": true,
    "ExecuteTime": {
     "end_time": "2025-05-16T17:58:59.651596Z",
     "start_time": "2025-05-16T17:58:59.158806Z"
    }
   },
   "cell_type": "code",
   "source": [
    "import numpy as np\n",
    "from sklearn.linear_model import LogisticRegression"
   ],
   "id": "initial_id",
   "outputs": [],
   "execution_count": 12
  },
  {
   "metadata": {},
   "cell_type": "markdown",
   "source": "**Linear Regression**",
   "id": "9770953f945d7e5f"
  },
  {
   "metadata": {
    "ExecuteTime": {
     "end_time": "2025-05-16T18:07:23.988111Z",
     "start_time": "2025-05-16T18:07:23.977780Z"
    }
   },
   "cell_type": "code",
   "source": [
    "import numpy as np\n",
    "\n",
    "\n",
    "class Linear_Regression:\n",
    "    def __init__(self, learning_rate=0.01, no_of_iterations=1000):\n",
    "        \"\"\"\n",
    "        Initialize Linear Regression model\n",
    "\n",
    "        Parameters:\n",
    "        learning_rate : float, default=0.01\n",
    "            The learning rate for gradient descent\n",
    "        no_of_iterations : int, default=1000\n",
    "            Number of iterations for gradient descent\n",
    "        \"\"\"\n",
    "        self.learning_rate = learning_rate\n",
    "        self.no_of_iterations = no_of_iterations\n",
    "        self.weights = None\n",
    "        self.bias = None\n",
    "\n",
    "    def fit(self, X, y):\n",
    "        \"\"\"\n",
    "        Fit the linear regression model\n",
    "\n",
    "        Parameters:\n",
    "        X : array-like of shape (n_samples, n_features)\n",
    "            Training data\n",
    "        y : array-like of shape (n_samples,)\n",
    "            Target values\n",
    "        \"\"\"\n",
    "        # Initialize parameters\n",
    "        self.m, self.n = X.shape  # m=number of samples, n=number of features\n",
    "        self.weights = np.zeros(self.n)\n",
    "        self.bias = 0\n",
    "        self.X = X\n",
    "        self.y = y\n",
    "\n",
    "        # Gradient Descent\n",
    "        for _ in range(self.no_of_iterations):\n",
    "            self.update_weights()\n",
    "\n",
    "        return self\n",
    "\n",
    "    def update_weights(self):\n",
    "        \"\"\"Update weights and bias using gradient descent\"\"\"\n",
    "        # Make predictions\n",
    "        y_predicted = self.predict(self.X)\n",
    "\n",
    "        # Calculate gradients\n",
    "        dw = -(2 * np.dot(self.X.T, (self.y - y_predicted))) / self.m\n",
    "        db = -2 * np.sum(self.y - y_predicted) / self.m\n",
    "\n",
    "        # Update parameters\n",
    "        self.weights = self.weights - self.learning_rate * dw\n",
    "        self.bias = self.bias - self.learning_rate * db\n",
    "\n",
    "    def predict(self, X):\n",
    "        \"\"\"\n",
    "        Make predictions using the linear model\n",
    "\n",
    "        Parameters:\n",
    "        X : array-like of shape (n_samples, n_features)\n",
    "            Samples\n",
    "\n",
    "        Returns:\n",
    "        array-like of shape (n_samples,)\n",
    "            Predicted values\n",
    "        \"\"\"\n",
    "        return np.dot(X, self.weights) + self.bias\n",
    "\n",
    "    def score(self, X, y):\n",
    "        \"\"\"\n",
    "        Calculate R² score\n",
    "\n",
    "        Parameters:\n",
    "        X : array-like of shape (n_samples, n_features)\n",
    "            Test samples\n",
    "        y : array-like of shape (n_samples,)\n",
    "            True values\n",
    "\n",
    "        Returns:\n",
    "        float\n",
    "            R² score\n",
    "        \"\"\"\n",
    "        predictions = self.predict(X)\n",
    "        ss_total = np.sum((y - np.mean(y)) ** 2)\n",
    "        ss_residual = np.sum((y - predictions) ** 2)\n",
    "        return 1 - (ss_residual / ss_total)\n"
   ],
   "id": "fd829a0bc8e906a9",
   "outputs": [],
   "execution_count": 18
  },
  {
   "metadata": {},
   "cell_type": "markdown",
   "source": "Using Linear Regression Model for Prediction",
   "id": "c05345f588d19825"
  },
  {
   "metadata": {
    "ExecuteTime": {
     "end_time": "2025-05-16T17:48:47.045467Z",
     "start_time": "2025-05-16T17:48:30.445229Z"
    }
   },
   "cell_type": "code",
   "outputs": [],
   "execution_count": 1,
   "source": [
    "#importing the dependencies\n",
    "import pandas as pd\n",
    "from sklearn.model_selection import train_test_split\n",
    "import matplotlib.pyplot as plt"
   ],
   "id": "337c36fc9bac1a99"
  },
  {
   "metadata": {
    "ExecuteTime": {
     "end_time": "2025-05-16T17:50:37.061813Z",
     "start_time": "2025-05-16T17:50:37.052643Z"
    }
   },
   "cell_type": "code",
   "source": [
    "#Data Preprocessing\n",
    "salary_data = pd.read_csv('D:/Coding/Ml_Projects/Ml/Salary_Data.csv')"
   ],
   "id": "6449587ac256a666",
   "outputs": [],
   "execution_count": 3
  },
  {
   "metadata": {
    "ExecuteTime": {
     "end_time": "2025-05-16T17:50:49.694405Z",
     "start_time": "2025-05-16T17:50:49.673214Z"
    }
   },
   "cell_type": "code",
   "source": "salary_data.head()",
   "id": "52de7fa10da156a3",
   "outputs": [
    {
     "data": {
      "text/plain": [
       "   YearsExperience  Salary\n",
       "0              1.1   39343\n",
       "1              1.3   46205\n",
       "2              1.5   37731\n",
       "3              2.0   43525\n",
       "4              2.2   39891"
      ],
      "text/html": [
       "<div>\n",
       "<style scoped>\n",
       "    .dataframe tbody tr th:only-of-type {\n",
       "        vertical-align: middle;\n",
       "    }\n",
       "\n",
       "    .dataframe tbody tr th {\n",
       "        vertical-align: top;\n",
       "    }\n",
       "\n",
       "    .dataframe thead th {\n",
       "        text-align: right;\n",
       "    }\n",
       "</style>\n",
       "<table border=\"1\" class=\"dataframe\">\n",
       "  <thead>\n",
       "    <tr style=\"text-align: right;\">\n",
       "      <th></th>\n",
       "      <th>YearsExperience</th>\n",
       "      <th>Salary</th>\n",
       "    </tr>\n",
       "  </thead>\n",
       "  <tbody>\n",
       "    <tr>\n",
       "      <th>0</th>\n",
       "      <td>1.1</td>\n",
       "      <td>39343</td>\n",
       "    </tr>\n",
       "    <tr>\n",
       "      <th>1</th>\n",
       "      <td>1.3</td>\n",
       "      <td>46205</td>\n",
       "    </tr>\n",
       "    <tr>\n",
       "      <th>2</th>\n",
       "      <td>1.5</td>\n",
       "      <td>37731</td>\n",
       "    </tr>\n",
       "    <tr>\n",
       "      <th>3</th>\n",
       "      <td>2.0</td>\n",
       "      <td>43525</td>\n",
       "    </tr>\n",
       "    <tr>\n",
       "      <th>4</th>\n",
       "      <td>2.2</td>\n",
       "      <td>39891</td>\n",
       "    </tr>\n",
       "  </tbody>\n",
       "</table>\n",
       "</div>"
      ]
     },
     "execution_count": 4,
     "metadata": {},
     "output_type": "execute_result"
    }
   ],
   "execution_count": 4
  },
  {
   "metadata": {
    "ExecuteTime": {
     "end_time": "2025-05-16T17:51:49.290335Z",
     "start_time": "2025-05-16T17:51:49.284622Z"
    }
   },
   "cell_type": "code",
   "source": [
    "# Number of rows and column in the dataframe\n",
    "salary_data.shape"
   ],
   "id": "bc3b7f37d9dac754",
   "outputs": [
    {
     "data": {
      "text/plain": [
       "(30, 2)"
      ]
     },
     "execution_count": 5,
     "metadata": {},
     "output_type": "execute_result"
    }
   ],
   "execution_count": 5
  },
  {
   "metadata": {
    "ExecuteTime": {
     "end_time": "2025-05-16T17:52:31.906387Z",
     "start_time": "2025-05-16T17:52:31.900554Z"
    }
   },
   "cell_type": "code",
   "source": "salary_data.isnull().sum()",
   "id": "8138e42c6ae91ccb",
   "outputs": [
    {
     "data": {
      "text/plain": [
       "YearsExperience    0\n",
       "Salary             0\n",
       "dtype: int64"
      ]
     },
     "execution_count": 6,
     "metadata": {},
     "output_type": "execute_result"
    }
   ],
   "execution_count": 6
  },
  {
   "metadata": {},
   "cell_type": "markdown",
   "source": "Splitting the target & feature",
   "id": "42c19dd22d5f5a57"
  },
  {
   "metadata": {
    "ExecuteTime": {
     "end_time": "2025-05-16T17:54:42.558412Z",
     "start_time": "2025-05-16T17:54:42.552047Z"
    }
   },
   "cell_type": "code",
   "source": [
    "X = salary_data.iloc[:, :-1].values\n",
    "Y = salary_data.iloc[:, 1].values"
   ],
   "id": "b9f3a2d16c07a91b",
   "outputs": [],
   "execution_count": 7
  },
  {
   "metadata": {},
   "cell_type": "markdown",
   "source": "Splitting the dataset into training & test data",
   "id": "53652ae2acbb2b20"
  },
  {
   "metadata": {
    "ExecuteTime": {
     "end_time": "2025-05-16T17:56:46.597828Z",
     "start_time": "2025-05-16T17:56:46.591929Z"
    }
   },
   "cell_type": "code",
   "source": "X_train, X_test, Y_train, Y_test = train_test_split(X, Y, test_size=0.3, random_state=2)",
   "id": "ddc09bb8a6b69590",
   "outputs": [],
   "execution_count": 9
  },
  {
   "metadata": {},
   "cell_type": "markdown",
   "source": "Training the linear regression model",
   "id": "9c0551fc47cc01a4"
  },
  {
   "metadata": {
    "ExecuteTime": {
     "end_time": "2025-05-16T18:07:45.438325Z",
     "start_time": "2025-05-16T18:07:45.432925Z"
    }
   },
   "cell_type": "code",
   "source": "model = Linear_Regression(learning_rate=0.02, no_of_iterations=1000)",
   "id": "46470f12163f71e8",
   "outputs": [],
   "execution_count": 19
  },
  {
   "metadata": {
    "ExecuteTime": {
     "end_time": "2025-05-16T18:07:47.281477Z",
     "start_time": "2025-05-16T18:07:47.261207Z"
    }
   },
   "cell_type": "code",
   "source": "model.fit(X_train, Y_train)",
   "id": "c2ec3c31e58ba6a3",
   "outputs": [
    {
     "data": {
      "text/plain": [
       "<__main__.Linear_Regression at 0x240c3e99e50>"
      ]
     },
     "execution_count": 20,
     "metadata": {},
     "output_type": "execute_result"
    }
   ],
   "execution_count": 20
  },
  {
   "metadata": {
    "ExecuteTime": {
     "end_time": "2025-05-16T18:11:00.998102Z",
     "start_time": "2025-05-16T18:11:00.993577Z"
    }
   },
   "cell_type": "code",
   "source": [
    "print(\"weight =\",model.weights[0])\n",
    "print(\"bias =\",model.bias)"
   ],
   "id": "1cdf72c10a71b8cc",
   "outputs": [
    {
     "name": "stdout",
     "output_type": "stream",
     "text": [
      "weight = 9534.934692142133\n",
      "bias = 23735.972514255136\n"
     ]
    }
   ],
   "execution_count": 25
  },
  {
   "metadata": {
    "ExecuteTime": {
     "end_time": "2025-05-16T18:11:42.493036Z",
     "start_time": "2025-05-16T18:11:42.488970Z"
    }
   },
   "cell_type": "code",
   "source": "test_data_prediction = model.predict(X_test)",
   "id": "7e9bc305245d5e5b",
   "outputs": [],
   "execution_count": 26
  },
  {
   "metadata": {
    "ExecuteTime": {
     "end_time": "2025-05-16T18:12:11.999667Z",
     "start_time": "2025-05-16T18:12:11.995048Z"
    }
   },
   "cell_type": "code",
   "source": "print(test_data_prediction)",
   "id": "136f561614badd12",
   "outputs": [
    {
     "name": "stdout",
     "output_type": "stream",
     "text": [
      "[ 36131.38761404  34224.40067561  66643.17862889  59015.23087518\n",
      "  91434.00882846  80945.58066711 101922.43698982  52340.77659068\n",
      "  42805.84189854]\n"
     ]
    }
   ],
   "execution_count": 27
  },
  {
   "metadata": {},
   "cell_type": "markdown",
   "source": "Visualizing the predicted values & actual Values",
   "id": "e574cd650dabcd6e"
  },
  {
   "metadata": {
    "ExecuteTime": {
     "end_time": "2025-05-16T18:13:05.882798Z",
     "start_time": "2025-05-16T18:13:05.618724Z"
    }
   },
   "cell_type": "code",
   "source": [
    "plt.scatter(X_test, Y_test, color='red')\n",
    "plt.plot(X_test, test_data_prediction, color='blue')\n",
    "plt.title('Salary vs Experience (Test Data)')\n",
    "plt.xlabel('Years of Experience')\n",
    "plt.ylabel('Salary')\n",
    "plt.show()"
   ],
   "id": "9ca4d249949816e2",
   "outputs": [
    {
     "data": {
      "text/plain": [
       "<Figure size 640x480 with 1 Axes>"
      ],
      "image/png": "[encoded data removed]"
     },
     "metadata": {},
     "output_type": "display_data"
    }
   ],
   "execution_count": 28
  },
  {
   "metadata": {},
   "cell_type": "code",
   "outputs": [],
   "execution_count": null,
   "source": "",
   "id": "cd51a89fdd86f54"
  }
 ],
 "metadata": {
  "kernelspec": {
   "display_name": "Python 3",
   "language": "python",
   "name": "python3"
  },
  "language_info": {
   "codemirror_mode": {
    "name": "ipython",
    "version": 2
   },
   "file_extension": ".py",
   "mimetype": "text/x-python",
   "name": "python",
   "nbconvert_exporter": "python",
   "pygments_lexer": "ipython2",
   "version": "2.7.6"
  }
 },
 "nbformat": 4,
 "nbformat_minor": 5
}
