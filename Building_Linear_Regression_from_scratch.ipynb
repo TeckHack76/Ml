{
 "cells": [
  {
   "metadata": {},
   "cell_type": "markdown",
   "source": [
    "Linear Regression:\n",
    "\n",
    "Y = wX + b\n",
    "\n",
    "Y --> Dependent Variable\n",
    "\n",
    "X --> Independent Variable\n",
    "\n",
    "w --> weight\n",
    "\n",
    "b --> bias\n",
    "\n",
    "Gradient Descent:\n",
    "\n",
    "Gradient Descent is an optimization algorithm used for minimizing the loss function in various machine learning algorithms. It is used for updating the parameters of the learning model.\n",
    "\n",
    "w = w - α*dw\n",
    "\n",
    "b = b - α*db\n",
    "\n",
    "Learning Rate:\n",
    "\n",
    "Learning rate is a tuning parameter in an optimization algorithm that determines the step size at each iteration while moving toward a minimum of a loss function."
   ],
   "id": "14503a717248c72b"
  },
  {
   "metadata": {
    "collapsed": true,
    "ExecuteTime": {
     "end_time": "2025-05-15T17:03:41.445386Z",
     "start_time": "2025-05-15T17:03:40.492688Z"
    }
   },
   "cell_type": "code",
   "source": [
    "import numpy as np\n",
    "from sklearn.linear_model import LogisticRegression"
   ],
   "id": "initial_id",
   "outputs": [],
   "execution_count": 1
  },
  {
   "metadata": {},
   "cell_type": "markdown",
   "source": "**Linear Regression**",
   "id": "9770953f945d7e5f"
  },
  {
   "metadata": {
    "ExecuteTime": {
     "end_time": "2025-05-15T17:17:43.584218Z",
     "start_time": "2025-05-15T17:17:43.576525Z"
    }
   },
   "cell_type": "code",
   "source": [
    "class Linear_Regression():\n",
    "\n",
    "    #initiating the parameters(learning rate & no of iterations)\n",
    "    def __init__(self, learning_rate, no_of_iterations):\n",
    "        self.learning_rate = learning_rate\n",
    "        self.no_of_iterations = no_of_iterations\n",
    "\n",
    "    def fit(self, X, Y):\n",
    "        #number of training examples & number of features\n",
    "        self.m, self.n = X.shape\n",
    "\n",
    "        #initiating the weight & bias\n",
    "        self.w  = np.zeros(self.n)\n",
    "        self.b = 0\n",
    "        self.X = X\n",
    "        self.Y = Y\n",
    "\n",
    "        #implementing the Gradient Descent\n",
    "        for i in range(self.no_of_iterations):\n",
    "            self.update_weights()\n",
    "\n",
    "    def update_weights(self):\n",
    "        Y_predicted = self.predict(self.X)\n",
    "        dw = - (2 * (self.X.T).dot(self.Y - Y_prediction)) / self.m\n",
    "\n",
    "        db = - 2 * np.sum(self.Y - Y_prediction)/self.m\n",
    "\n",
    "        # upadating the weights\n",
    "\n",
    "        self.w = self.w - self.learning_rate*dw\n",
    "        self.b = selb.b - self.learning_rate*db\n",
    "\n",
    "\n",
    "    def predict(self, X):\n",
    "\n",
    "        return X.dot(self.w) + self.b"
   ],
   "id": "fd829a0bc8e906a9",
   "outputs": [],
   "execution_count": 2
  },
  {
   "metadata": {},
   "cell_type": "code",
   "outputs": [],
   "execution_count": null,
   "source": [
    "from sklearn.linear_model import LogisticRegression\n",
    "\n",
    "model = LogisticRegression()"
   ],
   "id": "337c36fc9bac1a99"
  }
 ],
 "metadata": {
  "kernelspec": {
   "display_name": "Python 3",
   "language": "python",
   "name": "python3"
  },
  "language_info": {
   "codemirror_mode": {
    "name": "ipython",
    "version": 2
   },
   "file_extension": ".py",
   "mimetype": "text/x-python",
   "name": "python",
   "nbconvert_exporter": "python",
   "pygments_lexer": "ipython2",
   "version": "2.7.6"
  }
 },
 "nbformat": 4,
 "nbformat_minor": 5
}
